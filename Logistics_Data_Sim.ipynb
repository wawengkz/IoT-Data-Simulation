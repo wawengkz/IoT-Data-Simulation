{
 "cells": [
  {
   "cell_type": "code",
   "execution_count": 5,
   "id": "615a5b24-2c57-4230-93e0-bde675876791",
   "metadata": {
    "scrolled": true
   },
   "outputs": [
    {
     "name": "stdout",
     "output_type": "stream",
     "text": [
      "   Parcel #  Origin Destination        Date Departed         Date Arrived\n",
      "0  Parcel 1   Pasig      Makati  2025-11-05 19-56-36  2025-16-05 09-33-36\n",
      "1  Parcel 2  Makati      Manila  2025-17-05 09-26-36  2025-24-05 22-01-36\n",
      "2  Parcel 3   Pasig      Taguig  2025-07-05 07-16-36  2025-12-05 17-55-36\n",
      "3  Parcel 4  Baguio   Zamboanga  2025-14-05 23-00-36  2025-17-05 22-09-36\n",
      "4  Parcel 5    Cebu      Taguig  2025-20-05 06-54-36  2025-22-05 21-05-36\n"
     ]
    }
   ],
   "source": [
    "import random\n",
    "import time\n",
    "import pandas as pd\n",
    "from datetime import datetime, timedelta\n",
    "\n",
    "# Sample Philippine Cities\n",
    "philippine_cities = [\n",
    "    \"Manila\", \"Quezon City\", \"Caloocan\", \"Cavite\", \"Davao\", \"Cebu\", \n",
    "    \"Makati\", \"Pasig\", \"Taguig\", \"Iloilo\", \"Zamboanga\", \"Baguio\"\n",
    "]\n",
    "\n",
    "# Function to simulate logistics parcel data\n",
    "def generate_logistics_data(samples=5):\n",
    "    \"\"\"\n",
    "    Generates simulated logistics data with parcel movement information.\n",
    "    \n",
    "    Parameters:\n",
    "    samples (int): Number of parcels to generate.\n",
    "    \n",
    "    Returns:\n",
    "    pd.DataFrame: A DataFrame containing simulated logistics data.\n",
    "    \"\"\"\n",
    "    data = []\n",
    "\n",
    "    for i in range(samples):\n",
    "        parcel_id = f\"Parcel {i + 1}\"\n",
    "        \n",
    "        # Ensures destination is not the same as origin\n",
    "        origin = random.choice(philippine_cities)\n",
    "        destination = random.choice([city for city in philippine_cities if city != origin])\n",
    "\n",
    "        # Random departure date within last 30 days\n",
    "        days_ago = random.randint(1, 30)\n",
    "        departure_datetime = datetime.now() - timedelta(days=days_ago, hours=random.randint(0, 23), minutes=random.randint(0, 59))\n",
    "        \n",
    "        # Random arrival date 1 to 7 days after departure\n",
    "        arrival_datetime = departure_datetime + timedelta(days=random.randint(1, 7), hours=random.randint(0, 23), minutes=random.randint(0, 59))\n",
    "\n",
    "        # Format datetime as \"year-day-month hour-minute-second\"\n",
    "        date_format = \"%Y-%d-%m %H-%M-%S\"\n",
    "        date_departed = departure_datetime.strftime(date_format)\n",
    "        date_arrived = arrival_datetime.strftime(date_format)\n",
    "\n",
    "        data.append([parcel_id, origin, destination, date_departed, date_arrived])\n",
    "\n",
    "    return pd.DataFrame(data, columns=[\"Parcel #\", \"Origin\", \"Destination\", \"Date Departed\", \"Date Arrived\"])\n",
    "\n",
    "# Generate and display simulated logistics data\n",
    "logistics_data = generate_logistics_data(5)\n",
    "print(logistics_data)\n",
    "\n",
    "logistics_data.to_csv(\"logistics_data.csv\", index=False)"
   ]
  },
  {
   "cell_type": "code",
   "execution_count": null,
   "id": "e2b45abe-bb8e-429c-8548-874f0936bd79",
   "metadata": {},
   "outputs": [],
   "source": []
  }
 ],
 "metadata": {
  "kernelspec": {
   "display_name": "Python 3 (ipykernel)",
   "language": "python",
   "name": "python3"
  },
  "language_info": {
   "codemirror_mode": {
    "name": "ipython",
    "version": 3
   },
   "file_extension": ".py",
   "mimetype": "text/x-python",
   "name": "python",
   "nbconvert_exporter": "python",
   "pygments_lexer": "ipython3",
   "version": "3.12.7"
  }
 },
 "nbformat": 4,
 "nbformat_minor": 5
}
